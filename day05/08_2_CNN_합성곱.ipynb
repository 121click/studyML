{
 "cells": [
  {
   "cell_type": "code",
   "execution_count": 1,
   "metadata": {},
   "outputs": [],
   "source": [
    "import numpy as np\n",
    "import pandas as pd\n",
    "import matplotlib.pyplot as plt\n",
    "import scipy as sp\n",
    "\n",
    "import matplotlib as mpl\n",
    "import seaborn as sns\n",
    "\n",
    "from matplotlib import rc\n",
    "import matplotlib.font_manager as fm\n",
    "\n",
    "plt.rc('font', family='D2Coding')\n",
    "sns.set(font='D2Coding', rc={'axes.unicode_minus':False}, style='darkgrid')\n",
    "\n",
    "import statsmodels.api as sm #안쓸지도\n",
    "import sklearn as sk"
   ]
  },
  {
   "cell_type": "markdown",
   "metadata": {},
   "source": [
    "### 합성곱 신경망 이미지 분류"
   ]
  },
  {
   "cell_type": "code",
   "execution_count": 3,
   "metadata": {},
   "outputs": [],
   "source": [
    "from tensorflow import keras\n",
    "from tensorflow.keras.datasets.fashion_mnist import load_data\n",
    "from sklearn.model_selection import train_test_split"
   ]
  },
  {
   "cell_type": "code",
   "execution_count": 4,
   "metadata": {},
   "outputs": [],
   "source": [
    "(train_input, train_target), (test_input, test_target) = load_data()"
   ]
  },
  {
   "cell_type": "code",
   "execution_count": 5,
   "metadata": {},
   "outputs": [
    {
     "data": {
      "text/plain": [
       "(60000, 28, 28, 1)"
      ]
     },
     "execution_count": 5,
     "metadata": {},
     "output_type": "execute_result"
    }
   ],
   "source": [
    "train_scaled = train_input.reshape(-1,28,28,1) / 255.0\n",
    "train_scaled.shape"
   ]
  },
  {
   "cell_type": "code",
   "execution_count": 6,
   "metadata": {},
   "outputs": [],
   "source": [
    "train_scaled, val_scaled, train_target, val_target = train_test_split(train_scaled, train_target, test_size=0.2, random_state=42)\n"
   ]
  },
  {
   "cell_type": "code",
   "execution_count": 7,
   "metadata": {},
   "outputs": [
    {
     "data": {
      "text/plain": [
       "((48000, 28, 28, 1), (12000, 28, 28, 1))"
      ]
     },
     "execution_count": 7,
     "metadata": {},
     "output_type": "execute_result"
    }
   ],
   "source": [
    "train_scaled.shape, val_scaled.shape"
   ]
  },
  {
   "cell_type": "markdown",
   "metadata": {},
   "source": [
    "#### 합성곱 신경망 생성"
   ]
  },
  {
   "cell_type": "code",
   "execution_count": 13,
   "metadata": {},
   "outputs": [],
   "source": [
    "model = keras.Sequential()\n",
    "model.add(keras.layers.Conv2D(32, kernel_size=3, activation='relu', padding='same', input_shape=(28,28,1)))\n",
    "# 2개씩 줄이고 줄여서 28, 28이니까 14, 14가 됨 그걸 32개 만드는거고.\n",
    "model.add(keras.layers.MaxPooling2D(2))\n",
    "model.add(keras.layers.Conv2D(64, kernel_size=3, activation='relu', padding='same'))\n",
    "model.add(keras.layers.MaxPooling2D(2))"
   ]
  },
  {
   "cell_type": "code",
   "execution_count": 15,
   "metadata": {},
   "outputs": [],
   "source": [
    "model.add(keras.layers.Flatten()) # 7*7*64 + 64\n",
    "model.add(keras.layers.Dense(100, activation='relu'))\n",
    "model.add(keras.layers.Dropout(0.4))\n",
    "model.add(keras.layers.Dense(10, activation='softmax'))"
   ]
  },
  {
   "cell_type": "code",
   "execution_count": 16,
   "metadata": {},
   "outputs": [
    {
     "name": "stdout",
     "output_type": "stream",
     "text": [
      "Model: \"sequential_3\"\n",
      "_________________________________________________________________\n",
      " Layer (type)                Output Shape              Param #   \n",
      "=================================================================\n",
      " conv2d_4 (Conv2D)           (None, 28, 28, 32)        320       \n",
      "                                                                 \n",
      " max_pooling2d_2 (MaxPooling  (None, 14, 14, 32)       0         \n",
      " 2D)                                                             \n",
      "                                                                 \n",
      " conv2d_5 (Conv2D)           (None, 14, 14, 64)        18496     \n",
      "                                                                 \n",
      " max_pooling2d_3 (MaxPooling  (None, 7, 7, 64)         0         \n",
      " 2D)                                                             \n",
      "                                                                 \n",
      " flatten (Flatten)           (None, 3136)              0         \n",
      "                                                                 \n",
      " dense (Dense)               (None, 100)               313700    \n",
      "                                                                 \n",
      " dropout (Dropout)           (None, 100)               0         \n",
      "                                                                 \n",
      " dense_1 (Dense)             (None, 10)                1010      \n",
      "                                                                 \n",
      "=================================================================\n",
      "Total params: 333,526\n",
      "Trainable params: 333,526\n",
      "Non-trainable params: 0\n",
      "_________________________________________________________________\n"
     ]
    }
   ],
   "source": [
    "model.summary()"
   ]
  },
  {
   "cell_type": "code",
   "execution_count": 18,
   "metadata": {},
   "outputs": [
    {
     "name": "stdout",
     "output_type": "stream",
     "text": [
      "You must install pydot (`pip install pydot`) and install graphviz (see instructions at https://graphviz.gitlab.io/download/) for plot_model/model_to_dot to work.\n"
     ]
    }
   ],
   "source": [
    "keras.utils.plot_model(model)"
   ]
  },
  {
   "cell_type": "markdown",
   "metadata": {},
   "source": [
    "모델 컴파일 훈련"
   ]
  },
  {
   "cell_type": "code",
   "execution_count": 19,
   "metadata": {},
   "outputs": [
    {
     "name": "stdout",
     "output_type": "stream",
     "text": [
      "Epoch 1/20\n",
      "1499/1500 [============================>.] - ETA: 0s - loss: 0.5226 - accuracy: 0.8139\n",
      "Epoch 1: val_loss improved from inf to 0.32970, saving model to best_cnn_model.h5\n",
      "1500/1500 [==============================] - 37s 25ms/step - loss: 0.5225 - accuracy: 0.8140 - val_loss: 0.3297 - val_accuracy: 0.8806\n",
      "Epoch 2/20\n",
      "1499/1500 [============================>.] - ETA: 0s - loss: 0.3504 - accuracy: 0.8739\n",
      "Epoch 2: val_loss improved from 0.32970 to 0.27868, saving model to best_cnn_model.h5\n",
      "1500/1500 [==============================] - 39s 26ms/step - loss: 0.3503 - accuracy: 0.8739 - val_loss: 0.2787 - val_accuracy: 0.8949\n",
      "Epoch 3/20\n",
      "1500/1500 [==============================] - ETA: 0s - loss: 0.3006 - accuracy: 0.8905\n",
      "Epoch 3: val_loss improved from 0.27868 to 0.26563, saving model to best_cnn_model.h5\n",
      "1500/1500 [==============================] - 39s 26ms/step - loss: 0.3006 - accuracy: 0.8905 - val_loss: 0.2656 - val_accuracy: 0.9009\n",
      "Epoch 4/20\n",
      "1499/1500 [============================>.] - ETA: 0s - loss: 0.2707 - accuracy: 0.9022\n",
      "Epoch 4: val_loss improved from 0.26563 to 0.24947, saving model to best_cnn_model.h5\n",
      "1500/1500 [==============================] - 40s 27ms/step - loss: 0.2709 - accuracy: 0.9022 - val_loss: 0.2495 - val_accuracy: 0.9063\n",
      "Epoch 5/20\n",
      "1499/1500 [============================>.] - ETA: 0s - loss: 0.2466 - accuracy: 0.9095\n",
      "Epoch 5: val_loss improved from 0.24947 to 0.24045, saving model to best_cnn_model.h5\n",
      "1500/1500 [==============================] - 40s 27ms/step - loss: 0.2467 - accuracy: 0.9095 - val_loss: 0.2405 - val_accuracy: 0.9093\n",
      "Epoch 6/20\n",
      "1499/1500 [============================>.] - ETA: 0s - loss: 0.2273 - accuracy: 0.9166\n",
      "Epoch 6: val_loss improved from 0.24045 to 0.23401, saving model to best_cnn_model.h5\n",
      "1500/1500 [==============================] - 41s 27ms/step - loss: 0.2273 - accuracy: 0.9166 - val_loss: 0.2340 - val_accuracy: 0.9157\n",
      "Epoch 7/20\n",
      "1498/1500 [============================>.] - ETA: 0s - loss: 0.2115 - accuracy: 0.9211\n",
      "Epoch 7: val_loss improved from 0.23401 to 0.21985, saving model to best_cnn_model.h5\n",
      "1500/1500 [==============================] - 46s 31ms/step - loss: 0.2114 - accuracy: 0.9212 - val_loss: 0.2198 - val_accuracy: 0.9192\n",
      "Epoch 8/20\n",
      "1500/1500 [==============================] - ETA: 0s - loss: 0.1951 - accuracy: 0.9273\n",
      "Epoch 8: val_loss did not improve from 0.21985\n",
      "1500/1500 [==============================] - 45s 30ms/step - loss: 0.1951 - accuracy: 0.9273 - val_loss: 0.2266 - val_accuracy: 0.9191\n",
      "Epoch 9/20\n",
      "1500/1500 [==============================] - ETA: 0s - loss: 0.1828 - accuracy: 0.9320\n",
      "Epoch 9: val_loss did not improve from 0.21985\n",
      "1500/1500 [==============================] - 50s 34ms/step - loss: 0.1828 - accuracy: 0.9320 - val_loss: 0.2220 - val_accuracy: 0.9218\n"
     ]
    }
   ],
   "source": [
    "model.compile(optimizer='adam', loss='sparse_categorical_crossentropy', metrics='accuracy')\n",
    "\n",
    "checkpoint_cb = keras.callbacks.ModelCheckpoint('best_cnn_model.h5', save_best_only=True, verbose=1)\n",
    "early_stopping_cb = keras.callbacks.EarlyStopping(patience=2, restore_best_weights=True)\n",
    "history = model.fit(train_scaled, train_target, epochs=20, validation_data=(val_scaled, val_target), \n",
    "                    callbacks=[checkpoint_cb, early_stopping_cb])\n"
   ]
  },
  {
   "cell_type": "code",
   "execution_count": 20,
   "metadata": {},
   "outputs": [
    {
     "data": {
      "image/png": "[encoded data removed]",
      "text/plain": [
       "<Figure size 720x360 with 1 Axes>"
      ]
     },
     "metadata": {
      "needs_background": "light"
     },
     "output_type": "display_data"
    }
   ],
   "source": [
    "plt.figure(figsize=(10, 5))\n",
    "plt.plot(history.history['loss'])\n",
    "plt.plot(history.history['val_loss'])\n",
    "plt.xlabel('epoch')\n",
    "plt.ylabel('loss')\n",
    "plt.legend(['train_loss', 'val_loss'])\n",
    "plt.show()"
   ]
  },
  {
   "cell_type": "code",
   "execution_count": 21,
   "metadata": {},
   "outputs": [
    {
     "data": {
      "text/plain": [
       "8"
      ]
     },
     "execution_count": 21,
     "metadata": {},
     "output_type": "execute_result"
    }
   ],
   "source": [
    "early_stopping_cb.stopped_epoch"
   ]
  },
  {
   "cell_type": "code",
   "execution_count": 22,
   "metadata": {},
   "outputs": [
    {
     "name": "stdout",
     "output_type": "stream",
     "text": [
      "375/375 [==============================] - 3s 7ms/step - loss: 0.2198 - accuracy: 0.9192\n"
     ]
    },
    {
     "data": {
      "text/plain": [
       "[0.21984705328941345, 0.9191666841506958]"
      ]
     },
     "execution_count": 22,
     "metadata": {},
     "output_type": "execute_result"
    }
   ],
   "source": [
    "model.evaluate(val_scaled, val_target)"
   ]
  },
  {
   "cell_type": "code",
   "execution_count": 23,
   "metadata": {},
   "outputs": [
    {
     "data": {
      "text/plain": [
       "<matplotlib.image.AxesImage at 0x14f8915b190>"
      ]
     },
     "execution_count": 23,
     "metadata": {},
     "output_type": "execute_result"
    },
    {
     "data": {
      "image/png": "[encoded data removed]",
      "text/plain": [
       "<Figure size 432x288 with 1 Axes>"
      ]
     },
     "metadata": {
      "needs_background": "light"
     },
     "output_type": "display_data"
    }
   ],
   "source": [
    "plt.imshow(val_scaled[0].reshape(28,28), cmap='gray_r')"
   ]
  },
  {
   "cell_type": "markdown",
   "metadata": {},
   "source": [
    "예측하기"
   ]
  },
  {
   "cell_type": "code",
   "execution_count": 24,
   "metadata": {},
   "outputs": [
    {
     "name": "stdout",
     "output_type": "stream",
     "text": [
      "1/1 [==============================] - 0s 90ms/step\n"
     ]
    },
    {
     "data": {
      "text/plain": [
       "array([[3.3092451e-15, 1.3472932e-19, 1.0959863e-17, 1.6548577e-16,\n",
       "        1.8290512e-16, 1.3687274e-14, 2.0698303e-15, 1.1381868e-15,\n",
       "        1.0000000e+00, 6.3871651e-14]], dtype=float32)"
      ]
     },
     "execution_count": 24,
     "metadata": {},
     "output_type": "execute_result"
    }
   ],
   "source": [
    "result = model.predict(val_scaled[0:1])\n",
    "result"
   ]
  },
  {
   "cell_type": "code",
   "execution_count": 25,
   "metadata": {},
   "outputs": [
    {
     "name": "stdout",
     "output_type": "stream",
     "text": [
      "1/1 [==============================] - 0s 46ms/step\n"
     ]
    },
    {
     "data": {
      "text/plain": [
       "array([8], dtype=int64)"
      ]
     },
     "execution_count": 25,
     "metadata": {},
     "output_type": "execute_result"
    }
   ],
   "source": [
    "val_labels = np.argmax(model.predict(val_scaled[0:1]), axis=-1)\n",
    "val_labels"
   ]
  },
  {
   "cell_type": "markdown",
   "metadata": {},
   "source": [
    "오 성공"
   ]
  },
  {
   "cell_type": "code",
   "execution_count": 26,
   "metadata": {},
   "outputs": [],
   "source": [
    "classes = ['티셔츠','바지','스웨터','드레스','코트','샌들','셔츠','스니커즈','가방','앵클부츠']"
   ]
  },
  {
   "cell_type": "code",
   "execution_count": 28,
   "metadata": {},
   "outputs": [
    {
     "name": "stdout",
     "output_type": "stream",
     "text": [
      "가방\n"
     ]
    }
   ],
   "source": [
    "print(classes[np.argmax(result)])\n",
    "#classes[8], np.argmax(result) = 8\n"
   ]
  },
  {
   "cell_type": "code",
   "execution_count": null,
   "metadata": {},
   "outputs": [],
   "source": []
  }
 ],
 "metadata": {
  "kernelspec": {
   "display_name": "Python 3.10.5 64-bit",
   "language": "python",
   "name": "python3"
  },
  "language_info": {
   "codemirror_mode": {
    "name": "ipython",
    "version": 3
   },
   "file_extension": ".py",
   "mimetype": "text/x-python",
   "name": "python",
   "nbconvert_exporter": "python",
   "pygments_lexer": "ipython3",
   "version": "3.10.5"
  },
  "orig_nbformat": 4,
  "vscode": {
   "interpreter": {
    "hash": "26de051ba29f2982a8de78e945f0abaf191376122a1563185a90213a26c5da77"
   }
  }
 },
 "nbformat": 4,
 "nbformat_minor": 2
}
